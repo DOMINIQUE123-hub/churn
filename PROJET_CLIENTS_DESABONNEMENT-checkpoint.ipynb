{
 "cells": [
  {
   "cell_type": "markdown",
   "metadata": {},
   "source": [
    "<center><h1> PROJET DESABONNEMENT CLIENTS <h1><center>"
   ]
  },
  {
   "cell_type": "code",
   "execution_count": 1,
   "metadata": {},
   "outputs": [],
   "source": [
    "#import pip\n",
    "#pip.main(['install', 'xgboost'])"
   ]
  },
  {
   "cell_type": "markdown",
   "metadata": {},
   "source": [
    "Un responsable d’une banque souhaite réduire le nombre de clients qui quittent leurs services de carte de crédit. Il aimerait pouvoir anticiper le départ des clients afin de leur fournir de meilleurs services et ainsi les retenir. Votre travail sera de mettre en place un modèle de Machine Learning capable de prédire les départs des clients avec 21 variables. Pour cela, la banque met à votre disposition une base de données de 10127 clients. La variable cible est Attrition_Flag."
   ]
  },
  {
   "cell_type": "code",
   "execution_count": 10,
   "metadata": {},
   "outputs": [],
   "source": [
    "# Importation des librairies de manipulation de données\n",
    "\n",
    "import pandas as pd\n",
    "import numpy as np\n",
    "\n",
    "# Librairies de visualisation\n",
    "\n",
    "import matplotlib.pyplot as plt\n",
    "from ipywidgets import interact, interactive\n",
    "import seaborn as sns\n",
    "import seaborn;seaborn.set()\n",
    "\n",
    "# Librairies de preprocessing\n",
    "\n",
    "from sklearn.preprocessing import LabelEncoder, OneHotEncoder, RobustScaler\n",
    "from sklearn.model_selection import train_test_split, learning_curve\n",
    "\n",
    "# Importation des librairies de modélisation\n",
    "\n",
    "from sklearn.linear_model import LogisticRegression\n",
    "from sklearn.ensemble import BaggingClassifier\n",
    "from sklearn.ensemble import RandomForestClassifier\n",
    "from sklearn.ensemble import AdaBoostClassifier\n",
    "from sklearn.neighbors import KNeighborsClassifier\n",
    "from sklearn.svm import SVC\n",
    "\n",
    "# Evaluation du modèle\n",
    "\n",
    "from sklearn.metrics import f1_score, recall_score,precision_score, accuracy_score, confusion_matrix, classification_report\n",
    "\n",
    "# Pour la selection des variables\n",
    "from sklearn.feature_selection import SelectKBest, f_classif\n",
    "\n",
    "# deploiement du modèle\n",
    "\n",
    "import pickle"
   ]
  },
  {
   "cell_type": "markdown",
   "metadata": {},
   "source": [
    "### Importation du dataset"
   ]
  },
  {
   "cell_type": "code",
   "execution_count": 11,
   "metadata": {},
   "outputs": [],
   "source": [
    "# Pour voir toutes les lignes et colonnes\n",
    "pd.set_option('display.max_row', 21)\n",
    "pd.set_option('display.max_columns', 21)"
   ]
  },
  {
   "cell_type": "code",
   "execution_count": 12,
   "metadata": {},
   "outputs": [
    {
     "data": {
      "text/html": [
       "<div>\n",
       "<style scoped>\n",
       "    .dataframe tbody tr th:only-of-type {\n",
       "        vertical-align: middle;\n",
       "    }\n",
       "\n",
       "    .dataframe tbody tr th {\n",
       "        vertical-align: top;\n",
       "    }\n",
       "\n",
       "    .dataframe thead th {\n",
       "        text-align: right;\n",
       "    }\n",
       "</style>\n",
       "<table border=\"1\" class=\"dataframe\">\n",
       "  <thead>\n",
       "    <tr style=\"text-align: right;\">\n",
       "      <th></th>\n",
       "      <th>CLIENTNUM</th>\n",
       "      <th>Attrition_Flag</th>\n",
       "      <th>Customer_Age</th>\n",
       "      <th>Gender</th>\n",
       "      <th>Dependent_count</th>\n",
       "      <th>Education_Level</th>\n",
       "      <th>Marital_Status</th>\n",
       "      <th>Income_Category</th>\n",
       "      <th>Card_Category</th>\n",
       "      <th>Months_on_book</th>\n",
       "      <th>Total_Relationship_Count</th>\n",
       "      <th>Months_Inactive_12_mon</th>\n",
       "      <th>Contacts_Count_12_mon</th>\n",
       "      <th>Credit_Limit</th>\n",
       "      <th>Total_Revolving_Bal</th>\n",
       "      <th>Avg_Open_To_Buy</th>\n",
       "      <th>Total_Amt_Chng_Q4_Q1</th>\n",
       "      <th>Total_Trans_Amt</th>\n",
       "      <th>Total_Trans_Ct</th>\n",
       "      <th>Total_Ct_Chng_Q4_Q1</th>\n",
       "      <th>Avg_Utilization_Ratio</th>\n",
       "    </tr>\n",
       "  </thead>\n",
       "  <tbody>\n",
       "    <tr>\n",
       "      <th>0</th>\n",
       "      <td>768805383</td>\n",
       "      <td>Existing Customer</td>\n",
       "      <td>45</td>\n",
       "      <td>M</td>\n",
       "      <td>3</td>\n",
       "      <td>High School</td>\n",
       "      <td>Married</td>\n",
       "      <td>$60K - $80K</td>\n",
       "      <td>Blue</td>\n",
       "      <td>39</td>\n",
       "      <td>5</td>\n",
       "      <td>1</td>\n",
       "      <td>3</td>\n",
       "      <td>12691.0</td>\n",
       "      <td>777</td>\n",
       "      <td>11914.0</td>\n",
       "      <td>1.335</td>\n",
       "      <td>1144</td>\n",
       "      <td>42</td>\n",
       "      <td>1.625</td>\n",
       "      <td>0.061</td>\n",
       "    </tr>\n",
       "    <tr>\n",
       "      <th>1</th>\n",
       "      <td>818770008</td>\n",
       "      <td>Existing Customer</td>\n",
       "      <td>49</td>\n",
       "      <td>F</td>\n",
       "      <td>5</td>\n",
       "      <td>Graduate</td>\n",
       "      <td>Single</td>\n",
       "      <td>Less than $40K</td>\n",
       "      <td>Blue</td>\n",
       "      <td>44</td>\n",
       "      <td>6</td>\n",
       "      <td>1</td>\n",
       "      <td>2</td>\n",
       "      <td>8256.0</td>\n",
       "      <td>864</td>\n",
       "      <td>7392.0</td>\n",
       "      <td>1.541</td>\n",
       "      <td>1291</td>\n",
       "      <td>33</td>\n",
       "      <td>3.714</td>\n",
       "      <td>0.105</td>\n",
       "    </tr>\n",
       "    <tr>\n",
       "      <th>2</th>\n",
       "      <td>713982108</td>\n",
       "      <td>Existing Customer</td>\n",
       "      <td>51</td>\n",
       "      <td>M</td>\n",
       "      <td>3</td>\n",
       "      <td>Graduate</td>\n",
       "      <td>Married</td>\n",
       "      <td>$80K - $120K</td>\n",
       "      <td>Blue</td>\n",
       "      <td>36</td>\n",
       "      <td>4</td>\n",
       "      <td>1</td>\n",
       "      <td>0</td>\n",
       "      <td>3418.0</td>\n",
       "      <td>0</td>\n",
       "      <td>3418.0</td>\n",
       "      <td>2.594</td>\n",
       "      <td>1887</td>\n",
       "      <td>20</td>\n",
       "      <td>2.333</td>\n",
       "      <td>0.000</td>\n",
       "    </tr>\n",
       "    <tr>\n",
       "      <th>3</th>\n",
       "      <td>769911858</td>\n",
       "      <td>Existing Customer</td>\n",
       "      <td>40</td>\n",
       "      <td>F</td>\n",
       "      <td>4</td>\n",
       "      <td>High School</td>\n",
       "      <td>NaN</td>\n",
       "      <td>Less than $40K</td>\n",
       "      <td>Blue</td>\n",
       "      <td>34</td>\n",
       "      <td>3</td>\n",
       "      <td>4</td>\n",
       "      <td>1</td>\n",
       "      <td>3313.0</td>\n",
       "      <td>2517</td>\n",
       "      <td>796.0</td>\n",
       "      <td>1.405</td>\n",
       "      <td>1171</td>\n",
       "      <td>20</td>\n",
       "      <td>2.333</td>\n",
       "      <td>0.760</td>\n",
       "    </tr>\n",
       "    <tr>\n",
       "      <th>4</th>\n",
       "      <td>709106358</td>\n",
       "      <td>Existing Customer</td>\n",
       "      <td>40</td>\n",
       "      <td>M</td>\n",
       "      <td>3</td>\n",
       "      <td>Uneducated</td>\n",
       "      <td>Married</td>\n",
       "      <td>$60K - $80K</td>\n",
       "      <td>Blue</td>\n",
       "      <td>21</td>\n",
       "      <td>5</td>\n",
       "      <td>1</td>\n",
       "      <td>0</td>\n",
       "      <td>4716.0</td>\n",
       "      <td>0</td>\n",
       "      <td>4716.0</td>\n",
       "      <td>2.175</td>\n",
       "      <td>816</td>\n",
       "      <td>28</td>\n",
       "      <td>2.500</td>\n",
       "      <td>0.000</td>\n",
       "    </tr>\n",
       "  </tbody>\n",
       "</table>\n",
       "</div>"
      ],
      "text/plain": [
       "   CLIENTNUM     Attrition_Flag  Customer_Age Gender  Dependent_count  \\\n",
       "0  768805383  Existing Customer            45      M                3   \n",
       "1  818770008  Existing Customer            49      F                5   \n",
       "2  713982108  Existing Customer            51      M                3   \n",
       "3  769911858  Existing Customer            40      F                4   \n",
       "4  709106358  Existing Customer            40      M                3   \n",
       "\n",
       "  Education_Level Marital_Status Income_Category Card_Category  \\\n",
       "0     High School        Married     $60K - $80K          Blue   \n",
       "1        Graduate         Single  Less than $40K          Blue   \n",
       "2        Graduate        Married    $80K - $120K          Blue   \n",
       "3     High School            NaN  Less than $40K          Blue   \n",
       "4      Uneducated        Married     $60K - $80K          Blue   \n",
       "\n",
       "   Months_on_book  Total_Relationship_Count  Months_Inactive_12_mon  \\\n",
       "0              39                         5                       1   \n",
       "1              44                         6                       1   \n",
       "2              36                         4                       1   \n",
       "3              34                         3                       4   \n",
       "4              21                         5                       1   \n",
       "\n",
       "   Contacts_Count_12_mon  Credit_Limit  Total_Revolving_Bal  Avg_Open_To_Buy  \\\n",
       "0                      3       12691.0                  777          11914.0   \n",
       "1                      2        8256.0                  864           7392.0   \n",
       "2                      0        3418.0                    0           3418.0   \n",
       "3                      1        3313.0                 2517            796.0   \n",
       "4                      0        4716.0                    0           4716.0   \n",
       "\n",
       "   Total_Amt_Chng_Q4_Q1  Total_Trans_Amt  Total_Trans_Ct  Total_Ct_Chng_Q4_Q1  \\\n",
       "0                 1.335             1144              42                1.625   \n",
       "1                 1.541             1291              33                3.714   \n",
       "2                 2.594             1887              20                2.333   \n",
       "3                 1.405             1171              20                2.333   \n",
       "4                 2.175              816              28                2.500   \n",
       "\n",
       "   Avg_Utilization_Ratio  \n",
       "0                  0.061  \n",
       "1                  0.105  \n",
       "2                  0.000  \n",
       "3                  0.760  \n",
       "4                  0.000  "
      ]
     },
     "execution_count": 12,
     "metadata": {},
     "output_type": "execute_result"
    }
   ],
   "source": [
    "# Chargement du dataset\n",
    "data = pd.read_csv('DEPART_CLIENT.csv', na_values = 'Unknown', sep = ';')\n",
    "data.head()"
   ]
  },
  {
   "cell_type": "markdown",
   "metadata": {},
   "source": [
    "### Analyse exploratoire"
   ]
  },
  {
   "cell_type": "code",
   "execution_count": 7,
   "metadata": {},
   "outputs": [],
   "source": [
    "# Renommer les colonnes\n",
    "data = data.rename(columns =  {'CLIENTNUM': 'ID_CLIENT',\n",
    "       'Attrition_Flag':'ACTIVITE_CLIENT',\n",
    "       'Customer_Age':'AGE',\n",
    "       'Gender':'SEXE',\n",
    "       'Dependent_count':'NBRE_PERS_A_CHARGE',\n",
    "       'Education_Level':'NIVEAU_ETUDE',\n",
    "       'Marital_Status':'STATUT_MATRI',\n",
    "       'Income_Category':'CATEGO_REVENU_ANNUEL',\n",
    "        'Card_Category':'TYPE_DE_CARTE',\n",
    "       'Months_on_book':'PERIOD_RELATIO_BANQUE',\n",
    "       'Total_Relationship_Count':'NBRE_TOTAL_PRODUITS_CLIENT',\n",
    "       'Months_Inactive_12_mon':'NBRE_MOIS_INACTIV',\n",
    "       'Contacts_Count_12_mon':'NBRE_MOIS_INACTIV_12',\n",
    "       'Credit_Limit':'LIMITE_CREDIT',\n",
    "       'Total_Revolving_Bal':'SOLDE_RENOUVELABLE',\n",
    "       'Avg_Open_To_Buy':'LIGNE_CREDIT_ACHAT',\n",
    "       'Total_Amt_Chng_Q4_Q1':'CHANGEMENT_MONTANT',\n",
    "       'Total_Trans_Amt':'TOTAL_TRANSAC',\n",
    "       'Total_Trans_Ct':'NBRE_TOTAL_TRANSAC',\n",
    "       'Total_Ct_Chng_Q4_Q1':'CHANG_NBRE_TRANSAC',\n",
    "       'Avg_Utilization_Ratio':'TAUX_UTILI_MOYEN'})"
   ]
  },
  {
   "cell_type": "code",
   "execution_count": 8,
   "metadata": {},
   "outputs": [],
   "source": [
    "# Pour faire une copie du dataset\n",
    "df = data.copy()"
   ]
  },
  {
   "cell_type": "code",
   "execution_count": 13,
   "metadata": {},
   "outputs": [
    {
     "data": {
      "text/html": [
       "<div>\n",
       "<style scoped>\n",
       "    .dataframe tbody tr th:only-of-type {\n",
       "        vertical-align: middle;\n",
       "    }\n",
       "\n",
       "    .dataframe tbody tr th {\n",
       "        vertical-align: top;\n",
       "    }\n",
       "\n",
       "    .dataframe thead th {\n",
       "        text-align: right;\n",
       "    }\n",
       "</style>\n",
       "<table border=\"1\" class=\"dataframe\">\n",
       "  <thead>\n",
       "    <tr style=\"text-align: right;\">\n",
       "      <th></th>\n",
       "      <th>ID_CLIENT</th>\n",
       "      <th>ACTIVITE_CLIENT</th>\n",
       "      <th>AGE</th>\n",
       "      <th>SEXE</th>\n",
       "      <th>NBRE_PERS_A_CHARGE</th>\n",
       "      <th>NIVEAU_ETUDE</th>\n",
       "      <th>STATUT_MATRI</th>\n",
       "      <th>CATEGO_REVENU_ANNUEL</th>\n",
       "      <th>TYPE_DE_CARTE</th>\n",
       "      <th>PERIOD_RELATIO_BANQUE</th>\n",
       "      <th>NBRE_TOTAL_PRODUITS_CLIENT</th>\n",
       "      <th>NBRE_MOIS_INACTIV</th>\n",
       "      <th>NBRE_MOIS_INACTIV_12</th>\n",
       "      <th>LIMITE_CREDIT</th>\n",
       "      <th>SOLDE_RENOUVELABLE</th>\n",
       "      <th>LIGNE_CREDIT_ACHAT</th>\n",
       "      <th>CHANGEMENT_MONTANT</th>\n",
       "      <th>TOTAL_TRANSAC</th>\n",
       "      <th>NBRE_TOTAL_TRANSAC</th>\n",
       "      <th>CHANG_NBRE_TRANSAC</th>\n",
       "      <th>TAUX_UTILI_MOYEN</th>\n",
       "    </tr>\n",
       "  </thead>\n",
       "  <tbody>\n",
       "    <tr>\n",
       "      <th>0</th>\n",
       "      <td>768805383</td>\n",
       "      <td>Existing Customer</td>\n",
       "      <td>45</td>\n",
       "      <td>M</td>\n",
       "      <td>3</td>\n",
       "      <td>High School</td>\n",
       "      <td>Married</td>\n",
       "      <td>$60K - $80K</td>\n",
       "      <td>Blue</td>\n",
       "      <td>39</td>\n",
       "      <td>5</td>\n",
       "      <td>1</td>\n",
       "      <td>3</td>\n",
       "      <td>12691.0</td>\n",
       "      <td>777</td>\n",
       "      <td>11914.0</td>\n",
       "      <td>1.335</td>\n",
       "      <td>1144</td>\n",
       "      <td>42</td>\n",
       "      <td>1.625</td>\n",
       "      <td>0.061</td>\n",
       "    </tr>\n",
       "    <tr>\n",
       "      <th>1</th>\n",
       "      <td>818770008</td>\n",
       "      <td>Existing Customer</td>\n",
       "      <td>49</td>\n",
       "      <td>F</td>\n",
       "      <td>5</td>\n",
       "      <td>Graduate</td>\n",
       "      <td>Single</td>\n",
       "      <td>Less than $40K</td>\n",
       "      <td>Blue</td>\n",
       "      <td>44</td>\n",
       "      <td>6</td>\n",
       "      <td>1</td>\n",
       "      <td>2</td>\n",
       "      <td>8256.0</td>\n",
       "      <td>864</td>\n",
       "      <td>7392.0</td>\n",
       "      <td>1.541</td>\n",
       "      <td>1291</td>\n",
       "      <td>33</td>\n",
       "      <td>3.714</td>\n",
       "      <td>0.105</td>\n",
       "    </tr>\n",
       "    <tr>\n",
       "      <th>2</th>\n",
       "      <td>713982108</td>\n",
       "      <td>Existing Customer</td>\n",
       "      <td>51</td>\n",
       "      <td>M</td>\n",
       "      <td>3</td>\n",
       "      <td>Graduate</td>\n",
       "      <td>Married</td>\n",
       "      <td>$80K - $120K</td>\n",
       "      <td>Blue</td>\n",
       "      <td>36</td>\n",
       "      <td>4</td>\n",
       "      <td>1</td>\n",
       "      <td>0</td>\n",
       "      <td>3418.0</td>\n",
       "      <td>0</td>\n",
       "      <td>3418.0</td>\n",
       "      <td>2.594</td>\n",
       "      <td>1887</td>\n",
       "      <td>20</td>\n",
       "      <td>2.333</td>\n",
       "      <td>0.000</td>\n",
       "    </tr>\n",
       "    <tr>\n",
       "      <th>3</th>\n",
       "      <td>769911858</td>\n",
       "      <td>Existing Customer</td>\n",
       "      <td>40</td>\n",
       "      <td>F</td>\n",
       "      <td>4</td>\n",
       "      <td>High School</td>\n",
       "      <td>NaN</td>\n",
       "      <td>Less than $40K</td>\n",
       "      <td>Blue</td>\n",
       "      <td>34</td>\n",
       "      <td>3</td>\n",
       "      <td>4</td>\n",
       "      <td>1</td>\n",
       "      <td>3313.0</td>\n",
       "      <td>2517</td>\n",
       "      <td>796.0</td>\n",
       "      <td>1.405</td>\n",
       "      <td>1171</td>\n",
       "      <td>20</td>\n",
       "      <td>2.333</td>\n",
       "      <td>0.760</td>\n",
       "    </tr>\n",
       "    <tr>\n",
       "      <th>4</th>\n",
       "      <td>709106358</td>\n",
       "      <td>Existing Customer</td>\n",
       "      <td>40</td>\n",
       "      <td>M</td>\n",
       "      <td>3</td>\n",
       "      <td>Uneducated</td>\n",
       "      <td>Married</td>\n",
       "      <td>$60K - $80K</td>\n",
       "      <td>Blue</td>\n",
       "      <td>21</td>\n",
       "      <td>5</td>\n",
       "      <td>1</td>\n",
       "      <td>0</td>\n",
       "      <td>4716.0</td>\n",
       "      <td>0</td>\n",
       "      <td>4716.0</td>\n",
       "      <td>2.175</td>\n",
       "      <td>816</td>\n",
       "      <td>28</td>\n",
       "      <td>2.500</td>\n",
       "      <td>0.000</td>\n",
       "    </tr>\n",
       "    <tr>\n",
       "      <th>...</th>\n",
       "      <td>...</td>\n",
       "      <td>...</td>\n",
       "      <td>...</td>\n",
       "      <td>...</td>\n",
       "      <td>...</td>\n",
       "      <td>...</td>\n",
       "      <td>...</td>\n",
       "      <td>...</td>\n",
       "      <td>...</td>\n",
       "      <td>...</td>\n",
       "      <td>...</td>\n",
       "      <td>...</td>\n",
       "      <td>...</td>\n",
       "      <td>...</td>\n",
       "      <td>...</td>\n",
       "      <td>...</td>\n",
       "      <td>...</td>\n",
       "      <td>...</td>\n",
       "      <td>...</td>\n",
       "      <td>...</td>\n",
       "      <td>...</td>\n",
       "    </tr>\n",
       "    <tr>\n",
       "      <th>10122</th>\n",
       "      <td>772366833</td>\n",
       "      <td>Existing Customer</td>\n",
       "      <td>50</td>\n",
       "      <td>M</td>\n",
       "      <td>2</td>\n",
       "      <td>Graduate</td>\n",
       "      <td>Single</td>\n",
       "      <td>$40K - $60K</td>\n",
       "      <td>Blue</td>\n",
       "      <td>40</td>\n",
       "      <td>3</td>\n",
       "      <td>2</td>\n",
       "      <td>3</td>\n",
       "      <td>4003.0</td>\n",
       "      <td>1851</td>\n",
       "      <td>2152.0</td>\n",
       "      <td>0.703</td>\n",
       "      <td>15476</td>\n",
       "      <td>117</td>\n",
       "      <td>0.857</td>\n",
       "      <td>0.462</td>\n",
       "    </tr>\n",
       "    <tr>\n",
       "      <th>10123</th>\n",
       "      <td>710638233</td>\n",
       "      <td>Attrited Customer</td>\n",
       "      <td>41</td>\n",
       "      <td>M</td>\n",
       "      <td>2</td>\n",
       "      <td>NaN</td>\n",
       "      <td>Divorced</td>\n",
       "      <td>$40K - $60K</td>\n",
       "      <td>Blue</td>\n",
       "      <td>25</td>\n",
       "      <td>4</td>\n",
       "      <td>2</td>\n",
       "      <td>3</td>\n",
       "      <td>4277.0</td>\n",
       "      <td>2186</td>\n",
       "      <td>2091.0</td>\n",
       "      <td>0.804</td>\n",
       "      <td>8764</td>\n",
       "      <td>69</td>\n",
       "      <td>0.683</td>\n",
       "      <td>0.511</td>\n",
       "    </tr>\n",
       "    <tr>\n",
       "      <th>10124</th>\n",
       "      <td>716506083</td>\n",
       "      <td>Attrited Customer</td>\n",
       "      <td>44</td>\n",
       "      <td>F</td>\n",
       "      <td>1</td>\n",
       "      <td>High School</td>\n",
       "      <td>Married</td>\n",
       "      <td>Less than $40K</td>\n",
       "      <td>Blue</td>\n",
       "      <td>36</td>\n",
       "      <td>5</td>\n",
       "      <td>3</td>\n",
       "      <td>4</td>\n",
       "      <td>5409.0</td>\n",
       "      <td>0</td>\n",
       "      <td>5409.0</td>\n",
       "      <td>0.819</td>\n",
       "      <td>10291</td>\n",
       "      <td>60</td>\n",
       "      <td>0.818</td>\n",
       "      <td>0.000</td>\n",
       "    </tr>\n",
       "    <tr>\n",
       "      <th>10125</th>\n",
       "      <td>717406983</td>\n",
       "      <td>Attrited Customer</td>\n",
       "      <td>30</td>\n",
       "      <td>M</td>\n",
       "      <td>2</td>\n",
       "      <td>Graduate</td>\n",
       "      <td>NaN</td>\n",
       "      <td>$40K - $60K</td>\n",
       "      <td>Blue</td>\n",
       "      <td>36</td>\n",
       "      <td>4</td>\n",
       "      <td>3</td>\n",
       "      <td>3</td>\n",
       "      <td>5281.0</td>\n",
       "      <td>0</td>\n",
       "      <td>5281.0</td>\n",
       "      <td>0.535</td>\n",
       "      <td>8395</td>\n",
       "      <td>62</td>\n",
       "      <td>0.722</td>\n",
       "      <td>0.000</td>\n",
       "    </tr>\n",
       "    <tr>\n",
       "      <th>10126</th>\n",
       "      <td>714337233</td>\n",
       "      <td>Attrited Customer</td>\n",
       "      <td>43</td>\n",
       "      <td>F</td>\n",
       "      <td>2</td>\n",
       "      <td>Graduate</td>\n",
       "      <td>Married</td>\n",
       "      <td>Less than $40K</td>\n",
       "      <td>Silver</td>\n",
       "      <td>25</td>\n",
       "      <td>6</td>\n",
       "      <td>2</td>\n",
       "      <td>4</td>\n",
       "      <td>10388.0</td>\n",
       "      <td>1961</td>\n",
       "      <td>8427.0</td>\n",
       "      <td>0.703</td>\n",
       "      <td>10294</td>\n",
       "      <td>61</td>\n",
       "      <td>0.649</td>\n",
       "      <td>0.189</td>\n",
       "    </tr>\n",
       "  </tbody>\n",
       "</table>\n",
       "<p>10127 rows × 21 columns</p>\n",
       "</div>"
      ],
      "text/plain": [
       "       ID_CLIENT    ACTIVITE_CLIENT  AGE SEXE  NBRE_PERS_A_CHARGE  \\\n",
       "0      768805383  Existing Customer   45    M                   3   \n",
       "1      818770008  Existing Customer   49    F                   5   \n",
       "2      713982108  Existing Customer   51    M                   3   \n",
       "3      769911858  Existing Customer   40    F                   4   \n",
       "4      709106358  Existing Customer   40    M                   3   \n",
       "...          ...                ...  ...  ...                 ...   \n",
       "10122  772366833  Existing Customer   50    M                   2   \n",
       "10123  710638233  Attrited Customer   41    M                   2   \n",
       "10124  716506083  Attrited Customer   44    F                   1   \n",
       "10125  717406983  Attrited Customer   30    M                   2   \n",
       "10126  714337233  Attrited Customer   43    F                   2   \n",
       "\n",
       "      NIVEAU_ETUDE STATUT_MATRI CATEGO_REVENU_ANNUEL TYPE_DE_CARTE  \\\n",
       "0      High School      Married          $60K - $80K          Blue   \n",
       "1         Graduate       Single       Less than $40K          Blue   \n",
       "2         Graduate      Married         $80K - $120K          Blue   \n",
       "3      High School          NaN       Less than $40K          Blue   \n",
       "4       Uneducated      Married          $60K - $80K          Blue   \n",
       "...            ...          ...                  ...           ...   \n",
       "10122     Graduate       Single          $40K - $60K          Blue   \n",
       "10123          NaN     Divorced          $40K - $60K          Blue   \n",
       "10124  High School      Married       Less than $40K          Blue   \n",
       "10125     Graduate          NaN          $40K - $60K          Blue   \n",
       "10126     Graduate      Married       Less than $40K        Silver   \n",
       "\n",
       "       PERIOD_RELATIO_BANQUE  NBRE_TOTAL_PRODUITS_CLIENT  NBRE_MOIS_INACTIV  \\\n",
       "0                         39                           5                  1   \n",
       "1                         44                           6                  1   \n",
       "2                         36                           4                  1   \n",
       "3                         34                           3                  4   \n",
       "4                         21                           5                  1   \n",
       "...                      ...                         ...                ...   \n",
       "10122                     40                           3                  2   \n",
       "10123                     25                           4                  2   \n",
       "10124                     36                           5                  3   \n",
       "10125                     36                           4                  3   \n",
       "10126                     25                           6                  2   \n",
       "\n",
       "       NBRE_MOIS_INACTIV_12  LIMITE_CREDIT  SOLDE_RENOUVELABLE  \\\n",
       "0                         3        12691.0                 777   \n",
       "1                         2         8256.0                 864   \n",
       "2                         0         3418.0                   0   \n",
       "3                         1         3313.0                2517   \n",
       "4                         0         4716.0                   0   \n",
       "...                     ...            ...                 ...   \n",
       "10122                     3         4003.0                1851   \n",
       "10123                     3         4277.0                2186   \n",
       "10124                     4         5409.0                   0   \n",
       "10125                     3         5281.0                   0   \n",
       "10126                     4        10388.0                1961   \n",
       "\n",
       "       LIGNE_CREDIT_ACHAT  CHANGEMENT_MONTANT  TOTAL_TRANSAC  \\\n",
       "0                 11914.0               1.335           1144   \n",
       "1                  7392.0               1.541           1291   \n",
       "2                  3418.0               2.594           1887   \n",
       "3                   796.0               1.405           1171   \n",
       "4                  4716.0               2.175            816   \n",
       "...                   ...                 ...            ...   \n",
       "10122              2152.0               0.703          15476   \n",
       "10123              2091.0               0.804           8764   \n",
       "10124              5409.0               0.819          10291   \n",
       "10125              5281.0               0.535           8395   \n",
       "10126              8427.0               0.703          10294   \n",
       "\n",
       "       NBRE_TOTAL_TRANSAC  CHANG_NBRE_TRANSAC  TAUX_UTILI_MOYEN  \n",
       "0                      42               1.625             0.061  \n",
       "1                      33               3.714             0.105  \n",
       "2                      20               2.333             0.000  \n",
       "3                      20               2.333             0.760  \n",
       "4                      28               2.500             0.000  \n",
       "...                   ...                 ...               ...  \n",
       "10122                 117               0.857             0.462  \n",
       "10123                  69               0.683             0.511  \n",
       "10124                  60               0.818             0.000  \n",
       "10125                  62               0.722             0.000  \n",
       "10126                  61               0.649             0.189  \n",
       "\n",
       "[10127 rows x 21 columns]"
      ]
     },
     "execution_count": 13,
     "metadata": {},
     "output_type": "execute_result"
    }
   ],
   "source": [
    "# Aperçu\n",
    "df"
   ]
  },
  {
   "cell_type": "code",
   "execution_count": 14,
   "metadata": {},
   "outputs": [],
   "source": [
    "# Suppression de la colonne 'ID_CLIENT' qui n'a pas d'itulité\n",
    "df.drop(labels='ID_CLIENT', axis = 1, inplace = True) "
   ]
  },
  {
   "cell_type": "markdown",
   "metadata": {},
   "source": [
    "### Analyse de la variable cible"
   ]
  },
  {
   "cell_type": "code",
   "execution_count": 15,
   "metadata": {},
   "outputs": [
    {
     "data": {
      "text/plain": [
       "<AxesSubplot:>"
      ]
     },
     "execution_count": 15,
     "metadata": {},
     "output_type": "execute_result"
    },
    {
     "data": {
      "image/png": "[encoded data removed]",
      "text/plain": [
       "<Figure size 432x288 with 1 Axes>"
      ]
     },
     "metadata": {},
     "output_type": "display_data"
    }
   ],
   "source": [
    "# Diagramme en barre de la variable cible\n",
    "df['ACTIVITE_CLIENT'].value_counts().plot.bar()"
   ]
  },
  {
   "cell_type": "markdown",
   "metadata": {},
   "source": [
    "#### **-<font color='blue'>Remarque:</font> On peut se rendre compte qu'il y a un fort déséquilibre entre les modalités de la variable cible. Cela sera utile pour la selection de la métrique d'évaluation. <font color='red'>L'accuracy</font> seul ne suffira pas pour évaluer le modèle.**"
   ]
  },
  {
   "cell_type": "code",
   "execution_count": 16,
   "metadata": {},
   "outputs": [],
   "source": [
    "# Partition du dtaset en données qualitatives, ordinales et quantitatives\n",
    "df_quali = df.select_dtypes(object)\n",
    "df_quanti = df[['AGE', 'PERIOD_RELATIO_BANQUE', 'LIMITE_CREDIT', 'SOLDE_RENOUVELABLE', 'LIGNE_CREDIT_ACHAT', 'CHANGEMENT_MONTANT', 'TOTAL_TRANSAC', 'NBRE_TOTAL_TRANSAC', 'CHANG_NBRE_TRANSAC', 'TAUX_UTILI_MOYEN']]\n",
    "df_ordinal = df[['NBRE_PERS_A_CHARGE', 'NBRE_TOTAL_PRODUITS_CLIENT', 'NBRE_MOIS_INACTIV', 'NBRE_MOIS_INACTIV_12']]"
   ]
  },
  {
   "cell_type": "code",
   "execution_count": 17,
   "metadata": {},
   "outputs": [
    {
     "data": {
      "image/png": "[encoded data removed]",
      "text/plain": [
       "<Figure size 1440x1080 with 6 Axes>"
      ]
     },
     "metadata": {},
     "output_type": "display_data"
    }
   ],
   "source": [
    "# Visualisation de la relation entre les variables qualitatives et la variable cible\n",
    "fig, axes = plt.subplots(3,2,figsize = (20,15)) \n",
    "for idx, cat_col in enumerate(df_quali):\n",
    "    ligne, col = idx//2, idx%2\n",
    "    sns.countplot(x = cat_col, data = df_quali, hue = 'ACTIVITE_CLIENT', ax = axes[ligne, col])\n",
    "    plt.subplots_adjust(hspace = 1)"
   ]
  },
  {
   "cell_type": "code",
   "execution_count": 22,
   "metadata": {},
   "outputs": [],
   "source": [
    "# Visualisation de la relation entre les variables quantitatives et la variable cible\n",
    "def bar_plot(col):\n",
    "    plt.figure(figsize = (15,8))\n",
    "    plt.subplot(221)\n",
    "    sns.boxplot(x = df['ACTIVITE_CLIENT'], y = df_quanti[col])\n",
    "    plt.suptitle('Distribution de ' + str(col))\n",
    "    return plt.show()"
   ]
  },
  {
   "cell_type": "code",
   "execution_count": 23,
   "metadata": {},
   "outputs": [
    {
     "data": {
      "application/vnd.jupyter.widget-view+json": {
       "model_id": "a0ebcc81278c4158ae37bd77244d5e84",
       "version_major": 2,
       "version_minor": 0
      },
      "text/plain": [
       "interactive(children=(Dropdown(description='col', options=('AGE', 'PERIOD_RELATIO_BANQUE', 'LIMITE_CREDIT', 'S…"
      ]
     },
     "metadata": {},
     "output_type": "display_data"
    }
   ],
   "source": [
    "#Visualisation individuelle\n",
    "interact(bar_plot, col = df_quanti.columns);"
   ]
  },
  {
   "cell_type": "markdown",
   "metadata": {},
   "source": [
    "**-<font color='blue'>Remarque:</font>  On pourrait dire que les variables qualitatives ont un impact sur la variable cible (ACTIVITE CLIENT). Pour en être convaincu et connaître la significativité de cette influence l'on pourrait faire un test du Chi 2.**"
   ]
  },
  {
   "cell_type": "code",
   "execution_count": 24,
   "metadata": {},
   "outputs": [],
   "source": [
    "# Visualisation des corrélation linéaires entre les variables quantitatives\n",
    "#sns.pairplot(df, hue = 'ACTIVITE_CLIENT')\n",
    "#plt.corrplot(df_quanti)"
   ]
  },
  {
   "cell_type": "markdown",
   "metadata": {},
   "source": [
    "### Data preprocessing"
   ]
  },
  {
   "cell_type": "code",
   "execution_count": 26,
   "metadata": {},
   "outputs": [
    {
     "name": "stderr",
     "output_type": "stream",
     "text": [
      "C:\\ProgramData\\Anaconda3\\lib\\site-packages\\pandas\\core\\indexing.py:1783: SettingWithCopyWarning: \n",
      "A value is trying to be set on a copy of a slice from a DataFrame.\n",
      "Try using .loc[row_indexer,col_indexer] = value instead\n",
      "\n",
      "See the caveats in the documentation: https://pandas.pydata.org/pandas-docs/stable/user_guide/indexing.html#returning-a-view-versus-a-copy\n",
      "  self.obj[item_labels[indexer[info_axis]]] = value\n",
      "C:\\ProgramData\\Anaconda3\\lib\\site-packages\\pandas\\core\\indexing.py:1745: SettingWithCopyWarning: \n",
      "A value is trying to be set on a copy of a slice from a DataFrame.\n",
      "Try using .loc[row_indexer,col_indexer] = value instead\n",
      "\n",
      "See the caveats in the documentation: https://pandas.pydata.org/pandas-docs/stable/user_guide/indexing.html#returning-a-view-versus-a-copy\n",
      "  isetter(ilocs[0], value)\n"
     ]
    }
   ],
   "source": [
    "# Encodage des variables qualitatives\n",
    "def encodage_quali(dataframe):\n",
    "    code = {\n",
    "        'Attrited Customer':1, 'Existing Customer':0,\n",
    "        'F':0, 'M':1,\n",
    "        'Single':0, 'Married':1, 'Divorced':2, \n",
    "        'Less than $40K':0, '$40K - $60K':1,'$60K - $80K':2, '$80K - $120K':3, '$120K +':4,\n",
    "        'Blue':0, 'Silver':1, 'Gold':2, 'Platinum':3,\n",
    "        'Uneducated':0, 'College':1, 'High School':2, 'Graduate':3, 'Post-Graduate':4, 'Doctorate':5\n",
    "    }\n",
    "    for col in dataframe.select_dtypes('object').columns:\n",
    "        dataframe.loc[:,col] = dataframe[col].map(code)\n",
    "    \n",
    "    return dataframe\n",
    "\n",
    "df_quali = encodage_quali(df_quali);"
   ]
  },
  {
   "cell_type": "code",
   "execution_count": 27,
   "metadata": {},
   "outputs": [
    {
     "data": {
      "text/html": [
       "<div>\n",
       "<style scoped>\n",
       "    .dataframe tbody tr th:only-of-type {\n",
       "        vertical-align: middle;\n",
       "    }\n",
       "\n",
       "    .dataframe tbody tr th {\n",
       "        vertical-align: top;\n",
       "    }\n",
       "\n",
       "    .dataframe thead th {\n",
       "        text-align: right;\n",
       "    }\n",
       "</style>\n",
       "<table border=\"1\" class=\"dataframe\">\n",
       "  <thead>\n",
       "    <tr style=\"text-align: right;\">\n",
       "      <th></th>\n",
       "      <th>AGE</th>\n",
       "      <th>PERIOD_RELATIO_BANQUE</th>\n",
       "      <th>LIMITE_CREDIT</th>\n",
       "      <th>SOLDE_RENOUVELABLE</th>\n",
       "      <th>LIGNE_CREDIT_ACHAT</th>\n",
       "      <th>CHANGEMENT_MONTANT</th>\n",
       "      <th>TOTAL_TRANSAC</th>\n",
       "      <th>NBRE_TOTAL_TRANSAC</th>\n",
       "      <th>CHANG_NBRE_TRANSAC</th>\n",
       "      <th>TAUX_UTILI_MOYEN</th>\n",
       "    </tr>\n",
       "  </thead>\n",
       "  <tbody>\n",
       "    <tr>\n",
       "      <th>0</th>\n",
       "      <td>-0.090909</td>\n",
       "      <td>0.333333</td>\n",
       "      <td>0.956476</td>\n",
       "      <td>-0.350175</td>\n",
       "      <td>0.988927</td>\n",
       "      <td>2.627193</td>\n",
       "      <td>-1.065558</td>\n",
       "      <td>-0.694444</td>\n",
       "      <td>3.911017</td>\n",
       "      <td>-0.239583</td>\n",
       "    </tr>\n",
       "    <tr>\n",
       "      <th>1</th>\n",
       "      <td>0.272727</td>\n",
       "      <td>0.888889</td>\n",
       "      <td>0.435477</td>\n",
       "      <td>-0.289123</td>\n",
       "      <td>0.459078</td>\n",
       "      <td>3.530702</td>\n",
       "      <td>-1.008702</td>\n",
       "      <td>-0.944444</td>\n",
       "      <td>12.762712</td>\n",
       "      <td>-0.147917</td>\n",
       "    </tr>\n",
       "    <tr>\n",
       "      <th>2</th>\n",
       "      <td>0.454545</td>\n",
       "      <td>0.000000</td>\n",
       "      <td>-0.132863</td>\n",
       "      <td>-0.895439</td>\n",
       "      <td>-0.006562</td>\n",
       "      <td>8.149123</td>\n",
       "      <td>-0.778186</td>\n",
       "      <td>-1.305556</td>\n",
       "      <td>6.911017</td>\n",
       "      <td>-0.366667</td>\n",
       "    </tr>\n",
       "    <tr>\n",
       "      <th>3</th>\n",
       "      <td>-0.545455</td>\n",
       "      <td>-0.222222</td>\n",
       "      <td>-0.145198</td>\n",
       "      <td>0.870877</td>\n",
       "      <td>-0.313785</td>\n",
       "      <td>2.934211</td>\n",
       "      <td>-1.055115</td>\n",
       "      <td>-1.305556</td>\n",
       "      <td>6.911017</td>\n",
       "      <td>1.216667</td>\n",
       "    </tr>\n",
       "    <tr>\n",
       "      <th>4</th>\n",
       "      <td>-0.545455</td>\n",
       "      <td>-1.666667</td>\n",
       "      <td>0.019618</td>\n",
       "      <td>-0.895439</td>\n",
       "      <td>0.145527</td>\n",
       "      <td>6.311404</td>\n",
       "      <td>-1.192419</td>\n",
       "      <td>-1.083333</td>\n",
       "      <td>7.618644</td>\n",
       "      <td>-0.366667</td>\n",
       "    </tr>\n",
       "    <tr>\n",
       "      <th>...</th>\n",
       "      <td>...</td>\n",
       "      <td>...</td>\n",
       "      <td>...</td>\n",
       "      <td>...</td>\n",
       "      <td>...</td>\n",
       "      <td>...</td>\n",
       "      <td>...</td>\n",
       "      <td>...</td>\n",
       "      <td>...</td>\n",
       "      <td>...</td>\n",
       "    </tr>\n",
       "    <tr>\n",
       "      <th>10122</th>\n",
       "      <td>0.363636</td>\n",
       "      <td>0.444444</td>\n",
       "      <td>-0.064141</td>\n",
       "      <td>0.403509</td>\n",
       "      <td>-0.154901</td>\n",
       "      <td>-0.144737</td>\n",
       "      <td>4.477664</td>\n",
       "      <td>1.388889</td>\n",
       "      <td>0.656780</td>\n",
       "      <td>0.595833</td>\n",
       "    </tr>\n",
       "    <tr>\n",
       "      <th>10123</th>\n",
       "      <td>-0.454545</td>\n",
       "      <td>-1.222222</td>\n",
       "      <td>-0.031953</td>\n",
       "      <td>0.638596</td>\n",
       "      <td>-0.162048</td>\n",
       "      <td>0.298246</td>\n",
       "      <td>1.881648</td>\n",
       "      <td>0.055556</td>\n",
       "      <td>-0.080508</td>\n",
       "      <td>0.697917</td>\n",
       "    </tr>\n",
       "    <tr>\n",
       "      <th>10124</th>\n",
       "      <td>-0.181818</td>\n",
       "      <td>0.000000</td>\n",
       "      <td>0.101028</td>\n",
       "      <td>-0.895439</td>\n",
       "      <td>0.226727</td>\n",
       "      <td>0.364035</td>\n",
       "      <td>2.472249</td>\n",
       "      <td>-0.194444</td>\n",
       "      <td>0.491525</td>\n",
       "      <td>-0.366667</td>\n",
       "    </tr>\n",
       "    <tr>\n",
       "      <th>10125</th>\n",
       "      <td>-1.454545</td>\n",
       "      <td>0.000000</td>\n",
       "      <td>0.085991</td>\n",
       "      <td>-0.895439</td>\n",
       "      <td>0.211729</td>\n",
       "      <td>-0.881579</td>\n",
       "      <td>1.738929</td>\n",
       "      <td>-0.138889</td>\n",
       "      <td>0.084746</td>\n",
       "      <td>-0.366667</td>\n",
       "    </tr>\n",
       "    <tr>\n",
       "      <th>10126</th>\n",
       "      <td>-0.272727</td>\n",
       "      <td>-1.222222</td>\n",
       "      <td>0.685932</td>\n",
       "      <td>0.480702</td>\n",
       "      <td>0.580350</td>\n",
       "      <td>-0.144737</td>\n",
       "      <td>2.473409</td>\n",
       "      <td>-0.166667</td>\n",
       "      <td>-0.224576</td>\n",
       "      <td>0.027083</td>\n",
       "    </tr>\n",
       "  </tbody>\n",
       "</table>\n",
       "<p>10127 rows × 10 columns</p>\n",
       "</div>"
      ],
      "text/plain": [
       "            AGE  PERIOD_RELATIO_BANQUE  LIMITE_CREDIT  SOLDE_RENOUVELABLE  \\\n",
       "0     -0.090909               0.333333       0.956476           -0.350175   \n",
       "1      0.272727               0.888889       0.435477           -0.289123   \n",
       "2      0.454545               0.000000      -0.132863           -0.895439   \n",
       "3     -0.545455              -0.222222      -0.145198            0.870877   \n",
       "4     -0.545455              -1.666667       0.019618           -0.895439   \n",
       "...         ...                    ...            ...                 ...   \n",
       "10122  0.363636               0.444444      -0.064141            0.403509   \n",
       "10123 -0.454545              -1.222222      -0.031953            0.638596   \n",
       "10124 -0.181818               0.000000       0.101028           -0.895439   \n",
       "10125 -1.454545               0.000000       0.085991           -0.895439   \n",
       "10126 -0.272727              -1.222222       0.685932            0.480702   \n",
       "\n",
       "       LIGNE_CREDIT_ACHAT  CHANGEMENT_MONTANT  TOTAL_TRANSAC  \\\n",
       "0                0.988927            2.627193      -1.065558   \n",
       "1                0.459078            3.530702      -1.008702   \n",
       "2               -0.006562            8.149123      -0.778186   \n",
       "3               -0.313785            2.934211      -1.055115   \n",
       "4                0.145527            6.311404      -1.192419   \n",
       "...                   ...                 ...            ...   \n",
       "10122           -0.154901           -0.144737       4.477664   \n",
       "10123           -0.162048            0.298246       1.881648   \n",
       "10124            0.226727            0.364035       2.472249   \n",
       "10125            0.211729           -0.881579       1.738929   \n",
       "10126            0.580350           -0.144737       2.473409   \n",
       "\n",
       "       NBRE_TOTAL_TRANSAC  CHANG_NBRE_TRANSAC  TAUX_UTILI_MOYEN  \n",
       "0               -0.694444            3.911017         -0.239583  \n",
       "1               -0.944444           12.762712         -0.147917  \n",
       "2               -1.305556            6.911017         -0.366667  \n",
       "3               -1.305556            6.911017          1.216667  \n",
       "4               -1.083333            7.618644         -0.366667  \n",
       "...                   ...                 ...               ...  \n",
       "10122            1.388889            0.656780          0.595833  \n",
       "10123            0.055556           -0.080508          0.697917  \n",
       "10124           -0.194444            0.491525         -0.366667  \n",
       "10125           -0.138889            0.084746         -0.366667  \n",
       "10126           -0.166667           -0.224576          0.027083  \n",
       "\n",
       "[10127 rows x 10 columns]"
      ]
     },
     "execution_count": 27,
     "metadata": {},
     "output_type": "execute_result"
    }
   ],
   "source": [
    "# Normalisation des variables quantitatives\n",
    "stand = RobustScaler()\n",
    "df_quanti = pd.DataFrame(stand.fit_transform(df_quanti), columns = df_quanti.columns)\n",
    "df_quanti"
   ]
  },
  {
   "cell_type": "code",
   "execution_count": 28,
   "metadata": {},
   "outputs": [
    {
     "data": {
      "text/html": [
       "<div>\n",
       "<style scoped>\n",
       "    .dataframe tbody tr th:only-of-type {\n",
       "        vertical-align: middle;\n",
       "    }\n",
       "\n",
       "    .dataframe tbody tr th {\n",
       "        vertical-align: top;\n",
       "    }\n",
       "\n",
       "    .dataframe thead th {\n",
       "        text-align: right;\n",
       "    }\n",
       "</style>\n",
       "<table border=\"1\" class=\"dataframe\">\n",
       "  <thead>\n",
       "    <tr style=\"text-align: right;\">\n",
       "      <th></th>\n",
       "      <th>AGE</th>\n",
       "      <th>PERIOD_RELATIO_BANQUE</th>\n",
       "      <th>LIMITE_CREDIT</th>\n",
       "      <th>SOLDE_RENOUVELABLE</th>\n",
       "      <th>LIGNE_CREDIT_ACHAT</th>\n",
       "      <th>CHANGEMENT_MONTANT</th>\n",
       "      <th>TOTAL_TRANSAC</th>\n",
       "      <th>NBRE_TOTAL_TRANSAC</th>\n",
       "      <th>CHANG_NBRE_TRANSAC</th>\n",
       "      <th>TAUX_UTILI_MOYEN</th>\n",
       "      <th>NBRE_PERS_A_CHARGE</th>\n",
       "      <th>NBRE_TOTAL_PRODUITS_CLIENT</th>\n",
       "      <th>NBRE_MOIS_INACTIV</th>\n",
       "      <th>NBRE_MOIS_INACTIV_12</th>\n",
       "      <th>ACTIVITE_CLIENT</th>\n",
       "      <th>SEXE</th>\n",
       "      <th>NIVEAU_ETUDE</th>\n",
       "      <th>STATUT_MATRI</th>\n",
       "      <th>CATEGO_REVENU_ANNUEL</th>\n",
       "      <th>TYPE_DE_CARTE</th>\n",
       "    </tr>\n",
       "  </thead>\n",
       "  <tbody>\n",
       "    <tr>\n",
       "      <th>0</th>\n",
       "      <td>-0.090909</td>\n",
       "      <td>0.333333</td>\n",
       "      <td>0.956476</td>\n",
       "      <td>-0.350175</td>\n",
       "      <td>0.988927</td>\n",
       "      <td>2.627193</td>\n",
       "      <td>-1.065558</td>\n",
       "      <td>-0.694444</td>\n",
       "      <td>3.911017</td>\n",
       "      <td>-0.239583</td>\n",
       "      <td>3</td>\n",
       "      <td>5</td>\n",
       "      <td>1</td>\n",
       "      <td>3</td>\n",
       "      <td>0</td>\n",
       "      <td>1</td>\n",
       "      <td>2.0</td>\n",
       "      <td>1.0</td>\n",
       "      <td>2.0</td>\n",
       "      <td>0</td>\n",
       "    </tr>\n",
       "    <tr>\n",
       "      <th>1</th>\n",
       "      <td>0.272727</td>\n",
       "      <td>0.888889</td>\n",
       "      <td>0.435477</td>\n",
       "      <td>-0.289123</td>\n",
       "      <td>0.459078</td>\n",
       "      <td>3.530702</td>\n",
       "      <td>-1.008702</td>\n",
       "      <td>-0.944444</td>\n",
       "      <td>12.762712</td>\n",
       "      <td>-0.147917</td>\n",
       "      <td>5</td>\n",
       "      <td>6</td>\n",
       "      <td>1</td>\n",
       "      <td>2</td>\n",
       "      <td>0</td>\n",
       "      <td>0</td>\n",
       "      <td>3.0</td>\n",
       "      <td>0.0</td>\n",
       "      <td>0.0</td>\n",
       "      <td>0</td>\n",
       "    </tr>\n",
       "    <tr>\n",
       "      <th>2</th>\n",
       "      <td>0.454545</td>\n",
       "      <td>0.000000</td>\n",
       "      <td>-0.132863</td>\n",
       "      <td>-0.895439</td>\n",
       "      <td>-0.006562</td>\n",
       "      <td>8.149123</td>\n",
       "      <td>-0.778186</td>\n",
       "      <td>-1.305556</td>\n",
       "      <td>6.911017</td>\n",
       "      <td>-0.366667</td>\n",
       "      <td>3</td>\n",
       "      <td>4</td>\n",
       "      <td>1</td>\n",
       "      <td>0</td>\n",
       "      <td>0</td>\n",
       "      <td>1</td>\n",
       "      <td>3.0</td>\n",
       "      <td>1.0</td>\n",
       "      <td>3.0</td>\n",
       "      <td>0</td>\n",
       "    </tr>\n",
       "    <tr>\n",
       "      <th>3</th>\n",
       "      <td>-0.545455</td>\n",
       "      <td>-0.222222</td>\n",
       "      <td>-0.145198</td>\n",
       "      <td>0.870877</td>\n",
       "      <td>-0.313785</td>\n",
       "      <td>2.934211</td>\n",
       "      <td>-1.055115</td>\n",
       "      <td>-1.305556</td>\n",
       "      <td>6.911017</td>\n",
       "      <td>1.216667</td>\n",
       "      <td>4</td>\n",
       "      <td>3</td>\n",
       "      <td>4</td>\n",
       "      <td>1</td>\n",
       "      <td>0</td>\n",
       "      <td>0</td>\n",
       "      <td>2.0</td>\n",
       "      <td>NaN</td>\n",
       "      <td>0.0</td>\n",
       "      <td>0</td>\n",
       "    </tr>\n",
       "    <tr>\n",
       "      <th>4</th>\n",
       "      <td>-0.545455</td>\n",
       "      <td>-1.666667</td>\n",
       "      <td>0.019618</td>\n",
       "      <td>-0.895439</td>\n",
       "      <td>0.145527</td>\n",
       "      <td>6.311404</td>\n",
       "      <td>-1.192419</td>\n",
       "      <td>-1.083333</td>\n",
       "      <td>7.618644</td>\n",
       "      <td>-0.366667</td>\n",
       "      <td>3</td>\n",
       "      <td>5</td>\n",
       "      <td>1</td>\n",
       "      <td>0</td>\n",
       "      <td>0</td>\n",
       "      <td>1</td>\n",
       "      <td>0.0</td>\n",
       "      <td>1.0</td>\n",
       "      <td>2.0</td>\n",
       "      <td>0</td>\n",
       "    </tr>\n",
       "  </tbody>\n",
       "</table>\n",
       "</div>"
      ],
      "text/plain": [
       "        AGE  PERIOD_RELATIO_BANQUE  LIMITE_CREDIT  SOLDE_RENOUVELABLE  \\\n",
       "0 -0.090909               0.333333       0.956476           -0.350175   \n",
       "1  0.272727               0.888889       0.435477           -0.289123   \n",
       "2  0.454545               0.000000      -0.132863           -0.895439   \n",
       "3 -0.545455              -0.222222      -0.145198            0.870877   \n",
       "4 -0.545455              -1.666667       0.019618           -0.895439   \n",
       "\n",
       "   LIGNE_CREDIT_ACHAT  CHANGEMENT_MONTANT  TOTAL_TRANSAC  NBRE_TOTAL_TRANSAC  \\\n",
       "0            0.988927            2.627193      -1.065558           -0.694444   \n",
       "1            0.459078            3.530702      -1.008702           -0.944444   \n",
       "2           -0.006562            8.149123      -0.778186           -1.305556   \n",
       "3           -0.313785            2.934211      -1.055115           -1.305556   \n",
       "4            0.145527            6.311404      -1.192419           -1.083333   \n",
       "\n",
       "   CHANG_NBRE_TRANSAC  TAUX_UTILI_MOYEN  NBRE_PERS_A_CHARGE  \\\n",
       "0            3.911017         -0.239583                   3   \n",
       "1           12.762712         -0.147917                   5   \n",
       "2            6.911017         -0.366667                   3   \n",
       "3            6.911017          1.216667                   4   \n",
       "4            7.618644         -0.366667                   3   \n",
       "\n",
       "   NBRE_TOTAL_PRODUITS_CLIENT  NBRE_MOIS_INACTIV  NBRE_MOIS_INACTIV_12  \\\n",
       "0                           5                  1                     3   \n",
       "1                           6                  1                     2   \n",
       "2                           4                  1                     0   \n",
       "3                           3                  4                     1   \n",
       "4                           5                  1                     0   \n",
       "\n",
       "   ACTIVITE_CLIENT  SEXE  NIVEAU_ETUDE  STATUT_MATRI  CATEGO_REVENU_ANNUEL  \\\n",
       "0                0     1           2.0           1.0                   2.0   \n",
       "1                0     0           3.0           0.0                   0.0   \n",
       "2                0     1           3.0           1.0                   3.0   \n",
       "3                0     0           2.0           NaN                   0.0   \n",
       "4                0     1           0.0           1.0                   2.0   \n",
       "\n",
       "   TYPE_DE_CARTE  \n",
       "0              0  \n",
       "1              0  \n",
       "2              0  \n",
       "3              0  \n",
       "4              0  "
      ]
     },
     "execution_count": 28,
     "metadata": {},
     "output_type": "execute_result"
    }
   ],
   "source": [
    "# concatenation de la partition pour l'obtention d'un dataset final pour l'entrainement de modèle\n",
    "df_final = pd.concat([df_quanti, df_ordinal,df_quali], axis = 1)\n",
    "df_final.head()"
   ]
  },
  {
   "cell_type": "code",
   "execution_count": 29,
   "metadata": {},
   "outputs": [
    {
     "data": {
      "text/plain": [
       "NIVEAU_ETUDE                  0.149995\n",
       "CATEGO_REVENU_ANNUEL          0.109805\n",
       "STATUT_MATRI                  0.073961\n",
       "TYPE_DE_CARTE                 0.000000\n",
       "NBRE_TOTAL_TRANSAC            0.000000\n",
       "PERIOD_RELATIO_BANQUE         0.000000\n",
       "LIMITE_CREDIT                 0.000000\n",
       "SOLDE_RENOUVELABLE            0.000000\n",
       "LIGNE_CREDIT_ACHAT            0.000000\n",
       "CHANGEMENT_MONTANT            0.000000\n",
       "TOTAL_TRANSAC                 0.000000\n",
       "TAUX_UTILI_MOYEN              0.000000\n",
       "CHANG_NBRE_TRANSAC            0.000000\n",
       "NBRE_PERS_A_CHARGE            0.000000\n",
       "NBRE_TOTAL_PRODUITS_CLIENT    0.000000\n",
       "NBRE_MOIS_INACTIV             0.000000\n",
       "NBRE_MOIS_INACTIV_12          0.000000\n",
       "ACTIVITE_CLIENT               0.000000\n",
       "SEXE                          0.000000\n",
       "AGE                           0.000000\n",
       "dtype: float64"
      ]
     },
     "execution_count": 29,
     "metadata": {},
     "output_type": "execute_result"
    }
   ],
   "source": [
    "(df_final.isna().sum()/df_final.shape[0]).sort_values(ascending = False)"
   ]
  },
  {
   "cell_type": "code",
   "execution_count": 30,
   "metadata": {},
   "outputs": [],
   "source": [
    "# Suppression des vu que le pourcentage n'est pas assez élevé pour entacher l'étude\n",
    "df_final.dropna(axis = 0, inplace = True)"
   ]
  },
  {
   "cell_type": "code",
   "execution_count": 31,
   "metadata": {},
   "outputs": [],
   "source": [
    "# Variable cible\n",
    "y = df_final['ACTIVITE_CLIENT']"
   ]
  },
  {
   "cell_type": "code",
   "execution_count": 32,
   "metadata": {},
   "outputs": [],
   "source": [
    "# Variable explicatives\n",
    "X1 = df_final.drop(labels='ACTIVITE_CLIENT', axis = 1)"
   ]
  },
  {
   "cell_type": "markdown",
   "metadata": {},
   "source": [
    "### Modelisation"
   ]
  },
  {
   "cell_type": "code",
   "execution_count": 33,
   "metadata": {},
   "outputs": [],
   "source": [
    "# Partage du dataset en données d'entrainement et test\n",
    "X1_train, X1_test, y_train, y_test = train_test_split(X1, y, test_size = 0.3, random_state = 0, )"
   ]
  },
  {
   "cell_type": "code",
   "execution_count": 34,
   "metadata": {},
   "outputs": [
    {
     "name": "stdout",
     "output_type": "stream",
     "text": [
      "(4956, 19)\n",
      "(2125, 19)\n",
      "(4956,)\n",
      "(2125,)\n"
     ]
    }
   ],
   "source": [
    "# Affichage du découpage\n",
    "print(X1_train.shape)\n",
    "print(X1_test.shape)\n",
    "print(y_train.shape)\n",
    "print(y_test.shape)"
   ]
  },
  {
   "cell_type": "code",
   "execution_count": 36,
   "metadata": {},
   "outputs": [],
   "source": [
    "# Modélisation: Application de plusieurs algorithmes de classification\n",
    "modeles = {\n",
    "    'Regression_logistique': LogisticRegression(random_state=0),\n",
    "    'K_plus_proche_voisin': KNeighborsClassifier(n_neighbors=100, algorithm='ball_tree', leaf_size = 40),\n",
    "    'Forêt_aléatoire': RandomForestClassifier(random_state=0, n_estimators=100),\n",
    "    'Bagging': BaggingClassifier(base_estimator= KNeighborsClassifier(), n_estimators=100, random_state=0),\n",
    "    'Support_vect_machine': SVC(kernel='rbf', random_state=0),\n",
    "    'Boosting': AdaBoostClassifier(n_estimators=100, random_state=0),\n",
    "    \n",
    "}\n",
    "\n",
    "# Fonction de performance\n",
    "def performance(y_vrai, y_pred):\n",
    "    \n",
    "    confusion = pd.DataFrame(confusion_matrix(y_vrai, y_pred),index = ['fermé', 'ouvert'], columns = ['fermé', 'ouvert'])\n",
    "\n",
    "    print(confusion)\n",
    "    print(classification_report(y_vrai, y_pred))\n",
    "          \n",
    "# fonction d'application des modèles\n",
    "def train_test_eval(models, X_train, X_test, y_train, y_test):\n",
    "    for nom, model in modeles.items():\n",
    "        print(nom, ';')\n",
    "        model.fit( X1_train, y_train)\n",
    "        performance(y_test, model.predict(X_test))\n",
    "        print('-'*60)    "
   ]
  },
  {
   "cell_type": "code",
   "execution_count": 37,
   "metadata": {},
   "outputs": [
    {
     "name": "stdout",
     "output_type": "stream",
     "text": [
      "Regression_logistique ;\n",
      "        fermé  ouvert\n",
      "fermé    1757      60\n",
      "ouvert    144     164\n",
      "              precision    recall  f1-score   support\n",
      "\n",
      "           0       0.92      0.97      0.95      1817\n",
      "           1       0.73      0.53      0.62       308\n",
      "\n",
      "    accuracy                           0.90      2125\n",
      "   macro avg       0.83      0.75      0.78      2125\n",
      "weighted avg       0.90      0.90      0.90      2125\n",
      "\n",
      "------------------------------------------------------------\n",
      "K_plus_proche_voisin ;\n",
      "        fermé  ouvert\n",
      "fermé    1817       0\n",
      "ouvert    261      47\n",
      "              precision    recall  f1-score   support\n",
      "\n",
      "           0       0.87      1.00      0.93      1817\n",
      "           1       1.00      0.15      0.26       308\n",
      "\n",
      "    accuracy                           0.88      2125\n",
      "   macro avg       0.94      0.58      0.60      2125\n",
      "weighted avg       0.89      0.88      0.84      2125\n",
      "\n",
      "------------------------------------------------------------\n",
      "Forêt_aléatoire ;\n",
      "        fermé  ouvert\n",
      "fermé    1804      13\n",
      "ouvert     61     247\n",
      "              precision    recall  f1-score   support\n",
      "\n",
      "           0       0.97      0.99      0.98      1817\n",
      "           1       0.95      0.80      0.87       308\n",
      "\n",
      "    accuracy                           0.97      2125\n",
      "   macro avg       0.96      0.90      0.92      2125\n",
      "weighted avg       0.96      0.97      0.96      2125\n",
      "\n",
      "------------------------------------------------------------\n",
      "Bagging ;\n",
      "        fermé  ouvert\n",
      "fermé    1786      31\n",
      "ouvert    177     131\n",
      "              precision    recall  f1-score   support\n",
      "\n",
      "           0       0.91      0.98      0.94      1817\n",
      "           1       0.81      0.43      0.56       308\n",
      "\n",
      "    accuracy                           0.90      2125\n",
      "   macro avg       0.86      0.70      0.75      2125\n",
      "weighted avg       0.90      0.90      0.89      2125\n",
      "\n",
      "------------------------------------------------------------\n",
      "Support_vect_machine ;\n",
      "        fermé  ouvert\n",
      "fermé    1784      33\n",
      "ouvert    137     171\n",
      "              precision    recall  f1-score   support\n",
      "\n",
      "           0       0.93      0.98      0.95      1817\n",
      "           1       0.84      0.56      0.67       308\n",
      "\n",
      "    accuracy                           0.92      2125\n",
      "   macro avg       0.88      0.77      0.81      2125\n",
      "weighted avg       0.92      0.92      0.91      2125\n",
      "\n",
      "------------------------------------------------------------\n",
      "Boosting ;\n",
      "        fermé  ouvert\n",
      "fermé    1779      38\n",
      "ouvert     48     260\n",
      "              precision    recall  f1-score   support\n",
      "\n",
      "           0       0.97      0.98      0.98      1817\n",
      "           1       0.87      0.84      0.86       308\n",
      "\n",
      "    accuracy                           0.96      2125\n",
      "   macro avg       0.92      0.91      0.92      2125\n",
      "weighted avg       0.96      0.96      0.96      2125\n",
      "\n",
      "------------------------------------------------------------\n"
     ]
    }
   ],
   "source": [
    "train_test_eval(modeles, X1_train, X1_test, y_train, y_test)"
   ]
  },
  {
   "cell_type": "markdown",
   "metadata": {},
   "source": [
    "**-<font color='blue'>Remarque:</font>  L'accuracy n'est pas suffisant pour évaluer le modèle à cause du déséqulibre des classes, il convient. Vu le problème que nous cherchons à résoudre à savoir réduire les individus susceptibles de se désabonner, la banque gagnerait à réduire le nombre de clients ayant des comptes fermés et pour lesquels le modèle prédit que les comptes sont ouverts. Il faut réduire les faux positifs, cela revient à maximiser le recall. Au des résultats précédents, le modèle de random forest nous présente les meilleurs performances. Nous le retenons donc pour la suite. Dans la section suivante nous pouvons visualiser les courbes learning pour nous en convaincre.**"
   ]
  },
  {
   "cell_type": "code",
   "execution_count": 38,
   "metadata": {},
   "outputs": [
    {
     "data": {
      "text/plain": [
       "<matplotlib.legend.Legend at 0x1b4fc5933a0>"
      ]
     },
     "execution_count": 38,
     "metadata": {},
     "output_type": "execute_result"
    },
    {
     "data": {
      "image/png": "[encoded data removed]",
      "text/plain": [
       "<Figure size 864x576 with 1 Axes>"
      ]
     },
     "metadata": {},
     "output_type": "display_data"
    }
   ],
   "source": [
    "N, train_score, val_score = learning_curve(LogisticRegression(random_state=0), X1_train, y_train,\n",
    "                                              cv=4, scoring='f1',\n",
    "                                               train_sizes=np.linspace(0.1, 1, 10))\n",
    "plt.figure(figsize=(12, 8))\n",
    "plt.plot(N, train_score.mean(axis=1), label='train score')\n",
    "plt.plot(N, val_score.mean(axis=1), label='validation score')\n",
    "plt.title('Learning curve de la REGRESSION LOGISTIQUE ')\n",
    "plt.legend()"
   ]
  },
  {
   "cell_type": "code",
   "execution_count": 39,
   "metadata": {},
   "outputs": [
    {
     "data": {
      "text/plain": [
       "<matplotlib.legend.Legend at 0x1b4fc612970>"
      ]
     },
     "execution_count": 39,
     "metadata": {},
     "output_type": "execute_result"
    },
    {
     "data": {
      "image/png": "[encoded data removed]",
      "text/plain": [
       "<Figure size 864x576 with 1 Axes>"
      ]
     },
     "metadata": {},
     "output_type": "display_data"
    }
   ],
   "source": [
    "N, train_score, val_score = learning_curve(KNeighborsClassifier(n_neighbors=100, algorithm='ball_tree', leaf_size = 40), X1_train, y_train,\n",
    "                                              cv=4, scoring='f1',\n",
    "                                               train_sizes=np.linspace(0.1, 1, 10))\n",
    "plt.figure(figsize=(12, 8))\n",
    "plt.plot(N, train_score.mean(axis=1), label='train score')\n",
    "plt.plot(N, val_score.mean(axis=1), label='validation score')\n",
    "plt.title('Learning curve de la KNN ')\n",
    "plt.legend()"
   ]
  },
  {
   "cell_type": "code",
   "execution_count": 40,
   "metadata": {},
   "outputs": [
    {
     "data": {
      "text/plain": [
       "<matplotlib.legend.Legend at 0x1b4fc6060a0>"
      ]
     },
     "execution_count": 40,
     "metadata": {},
     "output_type": "execute_result"
    },
    {
     "data": {
      "image/png": "[encoded data removed]",
      "text/plain": [
       "<Figure size 864x576 with 1 Axes>"
      ]
     },
     "metadata": {},
     "output_type": "display_data"
    }
   ],
   "source": [
    "N, train_score, val_score = learning_curve(RandomForestClassifier(random_state=0, n_estimators=100), X1_train, y_train,\n",
    "                                              cv=4, scoring='f1',\n",
    "                                               train_sizes=np.linspace(0.1, 1, 10))\n",
    "plt.figure(figsize=(12, 8))\n",
    "plt.plot(N, train_score.mean(axis=1), label='train score')\n",
    "plt.plot(N, val_score.mean(axis=1), label='validation score')\n",
    "plt.title('Learning curve de la FORET ALEATOIRE')\n",
    "plt.legend()"
   ]
  },
  {
   "cell_type": "code",
   "execution_count": null,
   "metadata": {},
   "outputs": [],
   "source": [
    "#N, train_score, val_score = learning_curve(BaggingClassifier(base_estimator= KNeighborsClassifier(), n_estimators=100, random_state=0), \n",
    "#                                           X1_train, y_train,\n",
    "#                                              cv=4, scoring='f1',\n",
    "#                                               train_sizes=np.linspace(0.1, 1, 10))\n",
    "#plt.figure(figsize=(12, 8))\n",
    "#plt.plot(N, train_score.mean(axis=1), label='train score')\n",
    "#plt.plot(N, val_score.mean(axis=1), label='validation score')\n",
    "#plt.title('Learning cure dU BAGGING ')\n",
    "#plt.legend()"
   ]
  },
  {
   "cell_type": "code",
   "execution_count": 42,
   "metadata": {},
   "outputs": [
    {
     "data": {
      "text/plain": [
       "<matplotlib.legend.Legend at 0x1b48926ef10>"
      ]
     },
     "execution_count": 42,
     "metadata": {},
     "output_type": "execute_result"
    },
    {
     "data": {
      "image/png": "[encoded data removed]",
      "text/plain": [
       "<Figure size 864x576 with 1 Axes>"
      ]
     },
     "metadata": {},
     "output_type": "display_data"
    }
   ],
   "source": [
    "N, train_score, val_score = learning_curve(SVC(kernel='rbf', random_state=0), X1_train, y_train,\n",
    "                                              cv=4, scoring='f1',\n",
    "                                               train_sizes=np.linspace(0.1, 1, 10))\n",
    "plt.figure(figsize=(12, 8))\n",
    "plt.plot(N, train_score.mean(axis=1), label='train score')\n",
    "plt.plot(N, val_score.mean(axis=1), label='validation score')\n",
    "plt.title('Learning curve de SVM ')\n",
    "plt.legend()"
   ]
  },
  {
   "cell_type": "code",
   "execution_count": 43,
   "metadata": {},
   "outputs": [
    {
     "data": {
      "text/plain": [
       "<matplotlib.legend.Legend at 0x1b4fc4143a0>"
      ]
     },
     "execution_count": 43,
     "metadata": {},
     "output_type": "execute_result"
    },
    {
     "data": {
      "image/png": "[encoded data removed]",
      "text/plain": [
       "<Figure size 864x576 with 1 Axes>"
      ]
     },
     "metadata": {},
     "output_type": "display_data"
    }
   ],
   "source": [
    "N, train_score, val_score = learning_curve(AdaBoostClassifier(n_estimators=100, random_state=0), X1_train, y_train,\n",
    "                                              cv=4, scoring='f1',\n",
    "                                               train_sizes=np.linspace(0.1, 1, 10))\n",
    "                                           \n",
    "plt.figure(figsize=(12, 8))\n",
    "plt.plot(N, train_score.mean(axis=1), label='train score')\n",
    "plt.plot(N, val_score.mean(axis=1), label='validation score')\n",
    "plt.title('Learning cuvre de ADABOOST ')\n",
    "plt.legend()"
   ]
  },
  {
   "cell_type": "code",
   "execution_count": 44,
   "metadata": {},
   "outputs": [
    {
     "data": {
      "text/plain": [
       "RandomForestClassifier(random_state=0)"
      ]
     },
     "execution_count": 44,
     "metadata": {},
     "output_type": "execute_result"
    }
   ],
   "source": [
    "# Le modèle de random forest présente les meilleures performances. On le retient donc pour la suite\n",
    "model = RandomForestClassifier(random_state=0, n_estimators=100)\n",
    "model.fit(X1_train, y_train)"
   ]
  },
  {
   "cell_type": "code",
   "execution_count": 45,
   "metadata": {},
   "outputs": [
    {
     "data": {
      "text/plain": [
       "<AxesSubplot:>"
      ]
     },
     "execution_count": 45,
     "metadata": {},
     "output_type": "execute_result"
    },
    {
     "data": {
      "image/png": "[encoded data removed]",
      "text/plain": [
       "<Figure size 864x576 with 1 Axes>"
      ]
     },
     "metadata": {},
     "output_type": "display_data"
    }
   ],
   "source": [
    "# Diagramme de représentation des variables par niveau d'importance\n",
    "pd.DataFrame(model.feature_importances_, index=X1_train.columns).plot.bar(figsize=(12, 8))"
   ]
  },
  {
   "cell_type": "code",
   "execution_count": 46,
   "metadata": {},
   "outputs": [
    {
     "data": {
      "text/html": [
       "<div>\n",
       "<style scoped>\n",
       "    .dataframe tbody tr th:only-of-type {\n",
       "        vertical-align: middle;\n",
       "    }\n",
       "\n",
       "    .dataframe tbody tr th {\n",
       "        vertical-align: top;\n",
       "    }\n",
       "\n",
       "    .dataframe thead th {\n",
       "        text-align: right;\n",
       "    }\n",
       "</style>\n",
       "<table border=\"1\" class=\"dataframe\">\n",
       "  <thead>\n",
       "    <tr style=\"text-align: right;\">\n",
       "      <th></th>\n",
       "      <th>0</th>\n",
       "    </tr>\n",
       "  </thead>\n",
       "  <tbody>\n",
       "    <tr>\n",
       "      <th>SOLDE_RENOUVELABLE</th>\n",
       "      <td>0.110055</td>\n",
       "    </tr>\n",
       "    <tr>\n",
       "      <th>CHANGEMENT_MONTANT</th>\n",
       "      <td>0.064334</td>\n",
       "    </tr>\n",
       "    <tr>\n",
       "      <th>TOTAL_TRANSAC</th>\n",
       "      <td>0.174596</td>\n",
       "    </tr>\n",
       "    <tr>\n",
       "      <th>NBRE_TOTAL_TRANSAC</th>\n",
       "      <td>0.168972</td>\n",
       "    </tr>\n",
       "    <tr>\n",
       "      <th>CHANG_NBRE_TRANSAC</th>\n",
       "      <td>0.100627</td>\n",
       "    </tr>\n",
       "    <tr>\n",
       "      <th>TAUX_UTILI_MOYEN</th>\n",
       "      <td>0.074614</td>\n",
       "    </tr>\n",
       "    <tr>\n",
       "      <th>NBRE_TOTAL_PRODUITS_CLIENT</th>\n",
       "      <td>0.065515</td>\n",
       "    </tr>\n",
       "  </tbody>\n",
       "</table>\n",
       "</div>"
      ],
      "text/plain": [
       "                                   0\n",
       "SOLDE_RENOUVELABLE          0.110055\n",
       "CHANGEMENT_MONTANT          0.064334\n",
       "TOTAL_TRANSAC               0.174596\n",
       "NBRE_TOTAL_TRANSAC          0.168972\n",
       "CHANG_NBRE_TRANSAC          0.100627\n",
       "TAUX_UTILI_MOYEN            0.074614\n",
       "NBRE_TOTAL_PRODUITS_CLIENT  0.065515"
      ]
     },
     "execution_count": 46,
     "metadata": {},
     "output_type": "execute_result"
    }
   ],
   "source": [
    "# Sélection des 7 variables les plus importantes\n",
    "var_importantes = pd.DataFrame(model.feature_importances_, index=X1_train.columns)\n",
    "var_importantes[var_importantes.loc[:,0] >= 0.064]"
   ]
  },
  {
   "cell_type": "markdown",
   "metadata": {},
   "source": [
    " ## Entrainement du modèle de random forest avec les variables les plus importantes"
   ]
  },
  {
   "cell_type": "code",
   "execution_count": 47,
   "metadata": {},
   "outputs": [],
   "source": [
    "# Dtatset réduit au variables les plus significatives pour prédire la cible\n",
    "df_form = pd.concat([df_final[['SOLDE_RENOUVELABLE', 'CHANGEMENT_MONTANT', 'TOTAL_TRANSAC', 'NBRE_TOTAL_TRANSAC', 'CHANG_NBRE_TRANSAC', 'TAUX_UTILI_MOYEN', 'NBRE_TOTAL_PRODUITS_CLIENT']], y], axis = 1)"
   ]
  },
  {
   "cell_type": "code",
   "execution_count": 48,
   "metadata": {},
   "outputs": [],
   "source": [
    "y2 = df_form['ACTIVITE_CLIENT']  # Cible\n",
    "X2 = df_form.drop(['ACTIVITE_CLIENT'], axis = 1)  # dataset des variables explicatives"
   ]
  },
  {
   "cell_type": "code",
   "execution_count": 49,
   "metadata": {},
   "outputs": [],
   "source": [
    "# Découpage en données d'entrainement et test\n",
    "X2_train, X2_test, y2_train, y2_test = train_test_split(X2,y2, test_size = 0.3, random_state = 0)"
   ]
  },
  {
   "cell_type": "code",
   "execution_count": 50,
   "metadata": {},
   "outputs": [
    {
     "name": "stdout",
     "output_type": "stream",
     "text": [
      "(4956, 7)\n",
      "(2125, 7)\n",
      "(4956,)\n",
      "(2125,)\n"
     ]
    }
   ],
   "source": [
    "print(X2_train.shape)\n",
    "print(X2_test.shape)\n",
    "print(y2_train.shape)\n",
    "print(y2_test.shape)"
   ]
  },
  {
   "cell_type": "code",
   "execution_count": 51,
   "metadata": {},
   "outputs": [
    {
     "data": {
      "text/plain": [
       "RandomForestClassifier(random_state=0)"
      ]
     },
     "execution_count": 51,
     "metadata": {},
     "output_type": "execute_result"
    }
   ],
   "source": [
    "# Entrainement du random forest sur le jeu de données\n",
    "classifier = RandomForestClassifier(random_state=0, n_estimators=100)\n",
    "classifier.fit(X2_train, y2_train)"
   ]
  },
  {
   "cell_type": "code",
   "execution_count": 52,
   "metadata": {},
   "outputs": [],
   "source": [
    "# Eqnregistrement du modèle final pour le déploiement\n",
    "pickle.dump(classifier, open('modele.pkl', 'wb'))"
   ]
  }
 ],
 "metadata": {
  "kernelspec": {
   "display_name": "Python 3",
   "language": "python",
   "name": "python3"
  },
  "language_info": {
   "codemirror_mode": {
    "name": "ipython",
    "version": 3
   },
   "file_extension": ".py",
   "mimetype": "text/x-python",
   "name": "python",
   "nbconvert_exporter": "python",
   "pygments_lexer": "ipython3",
   "version": "3.8.5"
  }
 },
 "nbformat": 4,
 "nbformat_minor": 4
}
